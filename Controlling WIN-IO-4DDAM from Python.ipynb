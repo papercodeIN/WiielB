{
 "cells": [
  {
   "cell_type": "code",
   "execution_count": null,
   "id": "36ea6ba3-2be1-4035-93e6-15e99240fc51",
   "metadata": {},
   "outputs": [],
   "source": [
    "!pip install minimalmodbus"
   ]
  },
  {
   "cell_type": "code",
   "execution_count": null,
   "id": "9b3d9689-0cf5-46cc-b73e-2d4ddf5712b5",
   "metadata": {},
   "outputs": [],
   "source": [
    "import minimalmodbus\n",
    "import time"
   ]
  },
  {
   "cell_type": "markdown",
   "id": "49e8b32a-6fd6-4a8d-a6ee-a315561ad552",
   "metadata": {},
   "source": [
    "# Define the serial port parameters"
   ]
  },
  {
   "cell_type": "code",
   "execution_count": null,
   "id": "0617ca40-1496-4f8f-8dfd-49e2753100ae",
   "metadata": {},
   "outputs": [],
   "source": [
    "port = 'COM3'  # Change this to the actual serial port on your system\n",
    "baudrate = 9600\n",
    "stopbits = 1\n",
    "bytesize = 8\n",
    "parity = minimalmodbus.serial.PARITY_NONE"
   ]
  },
  {
   "cell_type": "markdown",
   "id": "05ff531c-597e-438d-9092-06c76cff5e03",
   "metadata": {},
   "source": [
    "# Create a Modbus instrument object"
   ]
  },
  {
   "cell_type": "code",
   "execution_count": null,
   "id": "962c925d-4293-401e-84bd-341d887a9486",
   "metadata": {},
   "outputs": [],
   "source": [
    "instrument = minimalmodbus.Instrument(port, slaveaddress=1)  # Replace '1' with your device's slave address"
   ]
  },
  {
   "cell_type": "markdown",
   "id": "f5ed2549-3d3f-4af2-85ee-1e71744a2081",
   "metadata": {},
   "source": [
    "# Set serial communication parameters"
   ]
  },
  {
   "cell_type": "code",
   "execution_count": null,
   "id": "dca354c7-493f-44d2-bf61-e4ef1ee5fef8",
   "metadata": {},
   "outputs": [],
   "source": [
    "instrument.serial.baudrate = baudrate\n",
    "instrument.serial.bytesize = bytesize\n",
    "instrument.serial.stopbits = stopbits\n",
    "instrument.serial.parity = parity"
   ]
  },
  {
   "cell_type": "markdown",
   "id": "619688a1-abc2-4b45-b844-73c18e9e4490",
   "metadata": {},
   "source": [
    "# Function to read a range of coil status"
   ]
  },
  {
   "cell_type": "code",
   "execution_count": null,
   "id": "237aa22f-ad71-48ca-be7e-1f656246a160",
   "metadata": {},
   "outputs": [],
   "source": [
    "def read_coil_status(start_address, num_coils):\n",
    "    try:\n",
    "        return instrument.read_bits(start_address, num_coils)\n",
    "    except IOError:\n",
    "        print(\"Communication error. Check your connection.\")\n",
    "        return [False] * num_coils  # Return false values in case of communication error"
   ]
  },
  {
   "cell_type": "markdown",
   "id": "b084cd25-2cf9-4b8d-b10b-2366cd4b773e",
   "metadata": {},
   "source": [
    "# Function to write a coil status (e.g., for blinking coil 0)"
   ]
  },
  {
   "cell_type": "code",
   "execution_count": null,
   "id": "33e43f88-28a1-402c-904a-c7522b23aadd",
   "metadata": {},
   "outputs": [],
   "source": [
    "def write_coil_status(address, value):\n",
    "    try:\n",
    "        instrument.write_bit(address, value)\n",
    "    except IOError:\n",
    "        print(\"Communication error. Check your connection.\")"
   ]
  },
  {
   "cell_type": "markdown",
   "id": "e96357e8-6dac-40e8-b7d1-507c9f4158b3",
   "metadata": {},
   "source": [
    "# Main loop"
   ]
  },
  {
   "cell_type": "code",
   "execution_count": null,
   "id": "6b59668c-568b-440b-b6ef-fb31eca998e4",
   "metadata": {},
   "outputs": [],
   "source": [
    "try:\n",
    "    # Main loop\n",
    "    while True:\n",
    "        # Read coil status for coils 0 to 7\n",
    "        coil_status_0_to_7 = read_coil_status(0, 8)\n",
    "        \n",
    "        # Blink coil 0 at every 1 second\n",
    "        write_coil_status(0, not coil_status_0_to_7[0])  # Toggle the value of coil 0\n",
    "        \n",
    "        # Check if coil 4 is low and turn on coil 3, or turn it off if coil 4 is high\n",
    "        try:\n",
    "            if not coil_status_0_to_7[4]:\n",
    "                write_coil_status(3, True)  # Turn on coil 3\n",
    "            else:\n",
    "                write_coil_status(3, False)  # Turn off coil 3\n",
    "        except IOError:\n",
    "            print(\"Communication error when controlling coil 3.\")\n",
    "        \n",
    "        # Wait for 1 second before the next iteration\n",
    "        time.sleep(1)\n",
    "\n",
    "except KeyboardInterrupt:\n",
    "    # Stop the loop when a KeyboardInterrupt (e.g., Ctrl+C) is detected\n",
    "    print(\"Loop stopped due to user interruption.\")"
   ]
  }
 ],
 "metadata": {
  "kernelspec": {
   "display_name": "Python 3 (ipykernel)",
   "language": "python",
   "name": "python3"
  },
  "language_info": {
   "codemirror_mode": {
    "name": "ipython",
    "version": 3
   },
   "file_extension": ".py",
   "mimetype": "text/x-python",
   "name": "python",
   "nbconvert_exporter": "python",
   "pygments_lexer": "ipython3",
   "version": "3.11.3"
  }
 },
 "nbformat": 4,
 "nbformat_minor": 5
}
